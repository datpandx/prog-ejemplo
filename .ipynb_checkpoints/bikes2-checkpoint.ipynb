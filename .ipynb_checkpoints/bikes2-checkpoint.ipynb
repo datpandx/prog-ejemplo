{
 "cells": [
  {
   "cell_type": "code",
   "execution_count": null,
   "id": "d7c9a923-1fea-4c87-aff9-22cfb1a9af47",
   "metadata": {},
   "outputs": [],
   "source": [
    "import pandas as pd\n",
    "import matplotlib.pyplot as plt\n",
    "\n",
    "df = pd.read_csv('bikes2.csv')\n",
    "\n",
    "df.plot('Date', 'Berri 1')\n",
    "\n",
    "plt.show()"
   ]
  },
  {
   "cell_type": "code",
   "execution_count": 2,
   "id": "da650eb2-c6c4-44df-97c6-315f5444289a",
   "metadata": {
    "tags": []
   },
   "outputs": [
    {
     "name": "stdout",
     "output_type": "stream",
     "text": [
      "          Date  Berri 1  CÃ´te-Sainte-Catherine  Maisonneuve 1  Maisonneuve 2  \\\n",
      "0   01/01/2012       35                       0             38             51   \n",
      "1   02/01/2012       83                       1             68            153   \n",
      "2   03/01/2012      135                       2            104            248   \n",
      "3   04/01/2012      144                       1            116            318   \n",
      "4   05/01/2012      197                       2            124            330   \n",
      "5   06/01/2012      146                       0             98            244   \n",
      "6   07/01/2012       98                       2             80            108   \n",
      "7   08/01/2012       95                       1             62             98   \n",
      "8   09/01/2012      244                       2            165            432   \n",
      "9   10/01/2012      397                       3            238            563   \n",
      "10  11/01/2012      273                       0            182            443   \n",
      "11  12/01/2012      157                       1            134            261   \n",
      "12  13/01/2012       75                       0             41            105   \n",
      "13  14/01/2012       32                       0             54             56   \n",
      "14  15/01/2012       54                       0             33             60   \n",
      "\n",
      "    du Parc  Pierre-Dupuy  Rachel1  \n",
      "0        26            10       16  \n",
      "1        53             6       43  \n",
      "2        89             3       58  \n",
      "3       111             8       61  \n",
      "4        97            13       95  \n",
      "5        86             4       75  \n",
      "6        53             6       54  \n",
      "7        64            11       63  \n",
      "8       198            12      173  \n",
      "9       275            18      241  \n",
      "10      258            12      194  \n",
      "11      137             9       63  \n",
      "12       64             2        0  \n",
      "13       19             0        1  \n",
      "14       18             0        0  \n"
     ]
    }
   ],
   "source": [
    "print(df)"
   ]
  },
  {
   "cell_type": "code",
   "execution_count": 3,
   "id": "fb06beb3-a623-4cdc-b250-db383531a653",
   "metadata": {
    "tags": []
   },
   "outputs": [
    {
     "name": "stdout",
     "output_type": "stream",
     "text": [
      "Date\n",
      "Berri 1\n",
      "CÃ´te-Sainte-Catherine\n",
      "Maisonneuve 1\n",
      "Maisonneuve 2\n",
      "du Parc\n",
      "Pierre-Dupuy\n",
      "Rachel1\n"
     ]
    }
   ],
   "source": [
    "for col in df:\n",
    "    print(col)"
   ]
  }
 ],
 "metadata": {
  "kernelspec": {
   "display_name": "Python 3 (ipykernel)",
   "language": "python",
   "name": "python3"
  },
  "language_info": {
   "codemirror_mode": {
    "name": "ipython",
    "version": 3
   },
   "file_extension": ".py",
   "mimetype": "text/x-python",
   "name": "python",
   "nbconvert_exporter": "python",
   "pygments_lexer": "ipython3",
   "version": "3.10.0"
  },
  "vscode": {
   "interpreter": {
    "hash": "1d6b3a274e63a8aa16c5be25b69ba8eebf48328f4c376a31c0bd4cad28b689ff"
   }
  }
 },
 "nbformat": 4,
 "nbformat_minor": 5
}
